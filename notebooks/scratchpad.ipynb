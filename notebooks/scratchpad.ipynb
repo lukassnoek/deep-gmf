{
 "cells": [
  {
   "cell_type": "code",
   "execution_count": 1,
   "metadata": {},
   "outputs": [],
   "source": [
    "import os\n",
    "# necessary when on deepnet server\n",
    "os.environ['DISPLAY'] = ':0.0'\n",
    "\n",
    "import numpy as np\n",
    "from PIL import Image\n",
    "from GFG import Ctx\n",
    "from GFG.model import Nf\n",
    "from pathlib import Path\n",
    "from GFG.core import Camera\n",
    "from skimage import transform\n",
    "from GFG.model import Furmap, hcol, Adata\n",
    "from GFG.identity import IDModel\n",
    "import sys\n",
    "sys.path.append('../scripts/generate_stimuli')\n",
    "from generate_backgrounds import phase_scramble_image"
   ]
  },
  {
   "cell_type": "code",
   "execution_count": 128,
   "metadata": {},
   "outputs": [],
   "source": [
    "base_nf = Nf.from_default()\n",
    "#furmap = Furmap(hcol=hcol['Dark Golden Brown'], nlayers=120, density=0.15)\n",
    "#furmap.material.split_newmtl(mat_groups = base_nf.material_groups,\n",
    "#                             fvt = base_nf.face_tuple.fv,\n",
    "#                             vt = base_nf.vertex_tuple.dSvt,\n",
    "#                             groupfidx = base_nf.groupfindex)\n",
    "#base_nf.attach_fur(furmap, name='fur')\n",
    "\n",
    "### SETUP CAMERA + DEFINITION PARAMETERS\n",
    "# Setup openGL context + camera\n",
    "ctx = Ctx(hidden=True)\n",
    "base_nf.attach(ctx)  # attach to openGL context\n",
    "ctx._camera[0] = Camera(\n",
    "    ctx.win, (112, 112), 4.,  # res, renderscale\n",
    "    target=[-11.5644, -13.0381, 0],\n",
    "    eye = [-11.5644 + 32, -13.0381, 250],\n",
    "    up = [0, 1, 0],\n",
    "    FOV = 50,\n",
    "    near = 100.,\n",
    "    far = 1000.\n",
    ")\n",
    "ctx.assign_camera(0)"
   ]
  },
  {
   "cell_type": "code",
   "execution_count": 129,
   "metadata": {},
   "outputs": [],
   "source": [
    "mu = base_nf.v[base_nf.groupvindex[base_nf.groupnames.index('face')]].mean(axis=0)\n",
    "mu[-1] = base_nf.v[base_nf.groupvindex[base_nf.groupnames.index('head')]].mean(axis=0)[-1]\n",
    "#mu = base_nf.v[base_nf.groupvindex[base_nf.groupnames.index('head')]].mean(axis=0)\n"
   ]
  },
  {
   "cell_type": "code",
   "execution_count": 130,
   "metadata": {},
   "outputs": [
    {
     "data": {
      "image/png": "[encoded data removed]",
      "text/plain": [
       "<PIL.Image.Image image mode=RGBA size=112x112>"
      ]
     },
     "execution_count": 130,
     "metadata": {},
     "output_type": "execute_result"
    }
   ],
   "source": [
    "ctx.set_lights(Path('../data/lights.yaml'))\n",
    "ctx.lights[0]._worldpos[-1] = 250\n",
    "#ctx.transform_lights(0, -90, 0, ctx.lights[0]._worldpos, order='xyzt')\n",
    "base_nf.skeleton.transform(x=0, y=0, z=0, t=-mu, order='txyz', replace=True)\n",
    "base_nf.skeleton.transform(x=0, y=0, z=0, t=mu, order='txyz')\n",
    "img = ctx.render('image')\n",
    "img.save('../data/orig3.png')\n",
    "img"
   ]
  },
  {
   "cell_type": "code",
   "execution_count": null,
   "metadata": {},
   "outputs": [],
   "source": [
    "base_nf.transform_model(0, 0, 0, [0, 0, 0], order='txyz', replace=True)\n",
    "base_nf.transform_model(15, 25, 0, [40, -10, 0], order='xyzt', replace=False)\n",
    "img = ctx.render('image')\n",
    "img.save('../data/rot.png')\n",
    "img"
   ]
  },
  {
   "cell_type": "code",
   "execution_count": null,
   "metadata": {},
   "outputs": [],
   "source": [
    "base_nf.transform_model(0, 0, 0, [0, 0, 0], order='txyz', replace=True)\n",
    "base_nf.transform_model(15, 25, 0, [0, 0, 0], order='xyzt', replace=False)\n",
    "img = ctx.render('image')\n",
    "\n",
    "img_arr = np.array(img)\n",
    "tform = transform.EuclideanTransform(translation=(120, 80))\n",
    "img_arr = transform.warp(img_arr, tform.inverse)\n",
    "img_arr *= 255\n",
    "img = Image.fromarray(img_arr.astype(np.uint8))\n",
    "img.convert('RGBA').save(str('../data/trans+rot.png'))\n",
    "img\n"
   ]
  },
  {
   "cell_type": "code",
   "execution_count": null,
   "metadata": {},
   "outputs": [],
   "source": [
    "ctx.set_lights(Path('../lights.yaml'))\n",
    "ctx.transform_lights(45, 45, 0, [0, 0, 0])\n",
    "\n",
    "base_nf.transform_model(0, 0, 0, [0, 0, 0], order='txyz', replace=True)\n",
    "base_nf.transform_model(15, 25, 0, [0, 0, 0], order='xyzt', replace=False)\n",
    "img = ctx.render('image')\n",
    "\n",
    "img_arr = np.array(img)\n",
    "tform = transform.EuclideanTransform(translation=(120, 80))\n",
    "img_arr = transform.warp(img_arr, tform.inverse)\n",
    "img_arr *= 255\n",
    "img = Image.fromarray(img_arr.astype(np.uint8))\n",
    "img.convert('RGBA').save(str('../data/trans+rot+lights.png'))\n",
    "img"
   ]
  },
  {
   "cell_type": "code",
   "execution_count": null,
   "metadata": {},
   "outputs": [],
   "source": [
    "ctx.set_lights(Path('../lights.yaml'))\n",
    "ctx.transform_lights(45, 45, 45, [0, 0, 0])\n",
    "\n",
    "base_nf.transform_model(0, 0, 0, [0, 0, 0], order='txyz', replace=True)\n",
    "base_nf.transform_model(15, 25, 0, [0, 0, 0], order='xyzt', replace=False)\n",
    "img = ctx.render('image')\n",
    "\n",
    "img_arr = np.array(img)\n",
    "tform = transform.EuclideanTransform(translation=(120, 80))\n",
    "img_arr = transform.warp(img_arr, tform.inverse)\n",
    "img_arr *= 255\n",
    "bg_rgb = phase_scramble_image(img_arr.copy(), None, is_image=False, shuffle_phase=False, grayscale=False)\n",
    "img_rgb, img_a = img_arr[..., :3], img_arr[..., 3, None] / 255.\n",
    "img_arr = (img_rgb * img_a) + (bg_rgb * (1 - img_a))  # alpha blend\n",
    "img_arr = np.dstack((img_arr, np.ones((512, 512)) * 255)).astype(np.uint8)\n",
    "img = Image.fromarray(img_arr.astype(np.uint8))\n",
    "img.convert('RGBA').save(str('../data/trans+rot+lights+bg.png'))\n",
    "bg = Image.fromarray(bg_rgb.astype(np.uint8))\n",
    "bg.convert('RGBA').save('../data/orig_background.png')"
   ]
  }
 ],
 "metadata": {
  "kernelspec": {
   "display_name": "Python 3.7.13 ('gfg')",
   "language": "python",
   "name": "python3"
  },
  "language_info": {
   "codemirror_mode": {
    "name": "ipython",
    "version": 3
   },
   "file_extension": ".py",
   "mimetype": "text/x-python",
   "name": "python",
   "nbconvert_exporter": "python",
   "pygments_lexer": "ipython3",
   "version": "3.7.13"
  },
  "orig_nbformat": 4,
  "vscode": {
   "interpreter": {
    "hash": "921b0c65bafeb924812e004c63192aaede68d548c04c336cb273c7a0c086cd60"
   }
  }
 },
 "nbformat": 4,
 "nbformat_minor": 2
}
