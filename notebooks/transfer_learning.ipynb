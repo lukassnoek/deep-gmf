{
 "cells": [
  {
   "attachments": {},
   "cell_type": "markdown",
   "metadata": {},
   "source": [
    "# Transfer learning\n",
    "\n",
    "Transfer learning figure used in Wellcome grant."
   ]
  },
  {
   "cell_type": "code",
   "execution_count": 1,
   "metadata": {},
   "outputs": [],
   "source": [
    "import pandas as pd\n",
    "import seaborn as sns\n",
    "import matplotlib\n",
    "import matplotlib.pyplot as plt\n",
    "\n",
    "matplotlib.rcParams['font.family'] = \"Helvetica\"\n",
    "matplotlib.rcParams['font.size'] = 8.18\n",
    "matplotlib.rcParams['figure.facecolor'] = 'white'\n",
    "\n",
    "def fix_bytes(df):\n",
    "\n",
    "    for col in df.columns:\n",
    "        if df[col].dtype == object:\n",
    "            df[col] = df[col].str.replace(\"b'\", '').str.replace(\"'\", '')\n",
    "\n",
    "    return df\n"
   ]
  },
  {
   "attachments": {},
   "cell_type": "markdown",
   "metadata": {},
   "source": [
    "Load in and preprocess data."
   ]
  },
  {
   "cell_type": "code",
   "execution_count": 2,
   "metadata": {},
   "outputs": [],
   "source": [
    "paths = [\n",
    "    f'../results/ResNet6_dataset-gmf_112x112_emo_target-id_epoch-050_perf.tsv',\n",
    "    f'../results/ResNet6_dataset-gmf_112x112_emo_target-gender_epoch-010_perf.tsv'\n",
    "]\n",
    "\n",
    "dfs = []\n",
    "for path in paths:\n",
    "    df = pd.read_csv(path, sep='\\t')\n",
    "    df['target'] = path.split('/')[-1].split('_target-')[1].split('_')[0]\n",
    "    dfs.append(df)\n",
    "\n",
    "df = pd.concat(dfs, axis=0)\n",
    "df_rot = df.query(\"factor in ['xr', 'yr', 'zr']\").groupby(['feature_nr', 'layername', 'layer', 'operation', 'op_nr', 'target']).mean(numeric_only=True).reset_index().assign(factor='rot')\n",
    "df_trans = df.query(\"factor in ['xt', 'yt', 'zt']\").groupby(['feature_nr', 'layername', 'layer', 'operation', 'op_nr', 'target']).mean(numeric_only=True).reset_index().assign(factor='trans')\n",
    "df_light = df.query(\"factor in ['xl', 'yl']\").groupby(['feature_nr', 'layername', 'layer', 'operation', 'op_nr', 'target']).mean(numeric_only=True).reset_index().assign(factor='lights')\n",
    "df_tex = df.query(\"factor == 'tex'\").groupby(['layername', 'layer', 'operation', 'op_nr', 'target']).max(numeric_only=True).reset_index().assign(factor='tex')\n",
    "df_shape = df.query(\"factor == 'shape'\").groupby(['layername', 'layer', 'operation', 'op_nr', 'target']).max(numeric_only=True).reset_index().assign(factor='shape')\n",
    "\n",
    "df = pd.concat([\n",
    "    df_rot,\n",
    "    df_trans,\n",
    "    df_light,\n",
    "    df_tex,\n",
    "    df_shape,\n",
    "    df.query(\"factor not in ['xr', 'yr', 'zr', 'xt', 'yt', 'zt', 'xl', 'yl', 'tex', 'shape']\")\n",
    "])\n",
    "\n",
    "df = df.replace({'bg': 'backgr.', 'rot': 'rotation', 'trans': 'transl.', 'lights': 'lighting', 'tex': 'texture', 'shape': 'shape', 'id': 'face ID', 'gend': 'gender', 'ethn': 'ethn.', 'emo': 'emotion'})\n",
    "df = df.query(\"layername != 'layer00_input'\").query(\"factor in ['gender', 'face ID']\")"
   ]
  },
  {
   "cell_type": "code",
   "execution_count": 4,
   "metadata": {},
   "outputs": [
    {
     "data": {
      "image/png": "[encoded data removed]",
      "text/plain": [
       "<Figure size 250x150 with 2 Axes>"
      ]
     },
     "metadata": {},
     "output_type": "display_data"
    }
   ],
   "source": [
    "n_layers = df['layername'].nunique()\n",
    "layernames = [f'L{i+1}' for i in range(n_layers)]\n",
    "factors = ['gender', 'face ID']\n",
    "n_factors = len(factors)\n",
    "cmap = sns.color_palette(\"YlOrBr\", n_colors=len(layernames) + 1)\n",
    "\n",
    "fig, axes = plt.subplots(nrows=2, figsize=(2.5, 1.5), sharex=True, sharey=True)\n",
    "ylabels = ['Sex', 'ID']\n",
    "for i, target in enumerate(['gender', 'face ID']):\n",
    "    bar = sns.barplot(x='layername', y='corr', hue='factor', ax=axes[i], data=df.query(\"target == @target\"), width=0.7)\n",
    "    for ii, patch in enumerate(bar.patches):\n",
    "        patch.set_facecolor(cmap[ii % len(layernames) + 1])\n",
    "        patch.set_edgecolor('black')\n",
    "        if ii < len(layernames):\n",
    "            patch.set_hatch('///')\n",
    "\n",
    "    axes[i].set_xlabel('')\n",
    "    axes[i].set_ylabel(f'Task: {ylabels[i]}', labelpad=-1)\n",
    "    axes[i].yaxis.tick_right()\n",
    "    axes[i].spines['left'].set_visible(False)\n",
    "    axes[i].spines['top'].set_visible(False)\n",
    "    axes[i].legend([], frameon=False)\n",
    "    axes[i].set_yticks([0, 1])\n",
    "    axes[i].set_yticklabels(['0', '1'])\n",
    "\n",
    "axes[-1].set_ylim(0, 1.)\n",
    "axes[-1].set_xticklabels(layernames)\n",
    "fig.text(1, 0.5, 'Accuracy', va='center', ha='center', fontsize=8, rotation=90)\n",
    "\n",
    "fig.subplots_adjust(hspace=0.3)\n",
    "handles = [matplotlib.patches.Patch(facecolor='white', hatch='////', edgecolor='k'), matplotlib.patches.Patch(facecolor='white', edgecolor='k')]\n",
    "fig.legend(handles, ['Decode: ID', 'Decode: sex'], alignment='left', loc='upper left', ncol=2, bbox_to_anchor=(0.135, 1.05), frameon=False, columnspacing=1)\n",
    "fig.savefig('./figures/transfer_learning.pdf', bbox_inches='tight')"
   ]
  }
 ],
 "metadata": {
  "kernelspec": {
   "display_name": "deepgmf",
   "language": "python",
   "name": "python3"
  },
  "language_info": {
   "codemirror_mode": {
    "name": "ipython",
    "version": 3
   },
   "file_extension": ".py",
   "mimetype": "text/x-python",
   "name": "python",
   "nbconvert_exporter": "python",
   "pygments_lexer": "ipython3",
   "version": "3.9.13"
  },
  "orig_nbformat": 4
 },
 "nbformat": 4,
 "nbformat_minor": 2
}
