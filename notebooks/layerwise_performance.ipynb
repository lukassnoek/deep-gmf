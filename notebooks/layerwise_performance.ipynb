{
 "cells": [
  {
   "attachments": {},
   "cell_type": "markdown",
   "metadata": {},
   "source": [
    "# Layerwise performance figure\n",
    "\n",
    "Used for Wellcome grant."
   ]
  },
  {
   "cell_type": "code",
   "execution_count": 3,
   "metadata": {},
   "outputs": [],
   "source": [
    "import pandas as pd\n",
    "import seaborn as sns\n",
    "import matplotlib\n",
    "import matplotlib.pyplot as plt\n",
    "\n",
    "matplotlib.rcParams['font.family'] = \"Helvetica\"\n",
    "matplotlib.rcParams['font.size'] = 8.18\n",
    "matplotlib.rcParams['figure.facecolor'] = 'white'\n"
   ]
  },
  {
   "attachments": {},
   "cell_type": "markdown",
   "metadata": {},
   "source": [
    "## Data import"
   ]
  },
  {
   "cell_type": "code",
   "execution_count": 5,
   "metadata": {},
   "outputs": [],
   "source": [
    "model = 'ResNet6'\n",
    "dataset = 'gmf_112x112_emo'\n",
    "epoch = '050'\n",
    "\n",
    "path = f'../results/{model}_dataset-{dataset}_target-id_epoch-{epoch}_perf.tsv'\n",
    "df = pd.read_csv(path, sep='\\t')\n",
    "df = df.query(\"operation != 'softmax'\")  # not interesting, discard\n",
    "df = df.query(\"layername != 'layer00_input'\")  # not really interesting, discard to save space\n",
    "\n",
    "# Average performance across direction (X, Y, Z) for rotation, translation, and lights (X, Y)\n",
    "df_rot = df.query(\"factor in ['xr', 'yr', 'zr']\").groupby(['feature_nr', 'layername', 'layer', 'operation', 'op_nr']).mean(numeric_only=True).reset_index().assign(factor='rot')\n",
    "df_trans = df.query(\"factor in ['xt', 'yt', 'zt']\").groupby(['feature_nr', 'layername', 'layer', 'operation', 'op_nr']).mean(numeric_only=True).reset_index().assign(factor='trans')\n",
    "df_light = df.query(\"factor in ['xl', 'yl']\").groupby(['feature_nr', 'layername', 'layer', 'operation', 'op_nr']).mean(numeric_only=True).reset_index().assign(factor='lights')\n",
    "\n",
    "# Instead of showing decodability of *all* shape and tex features, we show the decodability of the *best* shape and tex feature\n",
    "# (not ideal, as this will be biased upwards, especially when the number of test identities is small --> high variance estimates)\n",
    "df_tex = df.query(\"factor == 'tex'\").groupby(['layername', 'layer', 'operation', 'op_nr']).max(numeric_only=True).reset_index().assign(factor='tex')\n",
    "df_shape = df.query(\"factor == 'shape'\").groupby(['layername', 'layer', 'operation', 'op_nr']).max(numeric_only=True).reset_index().assign(factor='shape')\n",
    "\n",
    "# Concatenate all into a new dataframe\n",
    "df = pd.concat([\n",
    "    df_rot,\n",
    "    df_trans,\n",
    "    df_light,\n",
    "    df_tex,\n",
    "    df_shape,\n",
    "    df.query(\"factor not in ['xr', 'yr', 'zr', 'xt', 'yt', 'zt', 'xl', 'yl', 'tex', 'shape']\")\n",
    "])\n",
    "\n",
    "# Some nicer feature names\n",
    "df = df.replace({'bg': 'backgr.', 'rot': 'rot.', 'trans': 'trans.', 'lights': 'lighting', 'tex': 'tex.', 'shape': 'shape', 'id': 'ID', 'gend': 'gender', 'ethn': 'ethn.', 'emo': 'emotion'})\n"
   ]
  },
  {
   "attachments": {},
   "cell_type": "markdown",
   "metadata": {},
   "source": [
    "Actual figure:"
   ]
  },
  {
   "cell_type": "code",
   "execution_count": 6,
   "metadata": {},
   "outputs": [
    {
     "data": {
      "image/png": "[encoded data removed]",
      "text/plain": [
       "<Figure size 250x250 with 6 Axes>"
      ]
     },
     "metadata": {},
     "output_type": "display_data"
    }
   ],
   "source": [
    "n_layers = df['layername'].nunique()\n",
    "layernames = [f'L{i+1}' for i in range(n_layers)]\n",
    "factors = ['backgr.', 'rot.', 'trans.', 'shape', 'tex.', 'ID']\n",
    "n_factors = len(factors)\n",
    "cmap = sns.color_palette(\"YlOrBr\", n_colors=len(layernames) + 1)[1:]\n",
    "\n",
    "fig, axes = plt.subplots(nrows=n_factors, figsize=(2.5, 2.5), sharex=True, sharey=True)\n",
    "\n",
    "for i, factor in enumerate(factors):\n",
    "    sns.barplot(x='layername', y='corr', ax=axes[i], data=df.query(\"factor == @factor\"), palette=cmap, width=0.7)\n",
    "    axes[i].set_xlabel('')\n",
    "    axes[i].set_ylabel(factor)\n",
    "    axes[i].yaxis.tick_right()\n",
    "    axes[i].spines['left'].set_visible(False)\n",
    "    axes[i].spines['top'].set_visible(False)\n",
    "    axes[i].legend([], frameon=False)\n",
    "    axes[i].set_yticks([0, 1])\n",
    "    axes[i].set_yticklabels(['0', '1'])\n",
    "\n",
    "axes[-1].set_ylim(0, 1.)\n",
    "axes[-1].set_xticklabels(layernames)\n",
    "fig.text(1.01, 0.5, 'Explained variance / accuracy', va='center', ha='center', fontsize=8, rotation=90)\n",
    "fig.subplots_adjust(hspace=0.5)\n",
    "fig.savefig('./figures/layerwise_performance.pdf', bbox_inches='tight')"
   ]
  }
 ],
 "metadata": {
  "kernelspec": {
   "display_name": "Python 3.9.13 ('deepgmf')",
   "language": "python",
   "name": "python3"
  },
  "language_info": {
   "codemirror_mode": {
    "name": "ipython",
    "version": 3
   },
   "file_extension": ".py",
   "mimetype": "text/x-python",
   "name": "python",
   "nbconvert_exporter": "python",
   "pygments_lexer": "ipython3",
   "version": "3.9.13"
  },
  "orig_nbformat": 4,
  "vscode": {
   "interpreter": {
    "hash": "048b910f2a246862e691158053ebdf2b7046b67b0111ad6c649a7e269ae9c8de"
   }
  }
 },
 "nbformat": 4,
 "nbformat_minor": 2
}
