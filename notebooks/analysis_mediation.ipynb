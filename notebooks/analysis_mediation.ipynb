{
 "cells": [
  {
   "attachments": {},
   "cell_type": "markdown",
   "metadata": {},
   "source": [
    "# Mediation analyses\n",
    "\n",
    "Some proof-of-concept analyses to try to embed layer activations into shape shape and see whether this leads to better decoding of identity relative to decoding directly from the (compressed) layer activations."
   ]
  },
  {
   "cell_type": "code",
   "execution_count": 1,
   "metadata": {},
   "outputs": [],
   "source": [
    "import h5py\n",
    "import pandas as pd\n",
    "import numpy as np\n",
    "import seaborn as sns\n",
    "from pathlib import Path\n",
    "from tqdm import tqdm\n",
    "from collections import defaultdict\n",
    "from sklearn.discriminant_analysis import LinearDiscriminantAnalysis\n",
    "from sklearn.linear_model import Ridge\n",
    "from sklearn.metrics import r2_score, roc_auc_score\n",
    "from sklearn.model_selection import StratifiedKFold\n",
    "from sklearn.preprocessing import StandardScaler\n",
    "from sklearn.pipeline import make_pipeline\n",
    "\n",
    "model = 'ResNet6'\n",
    "dataset = 'gmf_112x112_emo'\n",
    "target = 'shape'\n",
    "epoch = '050'\n",
    "\n",
    "# Different file for each layer\n",
    "paths = sorted(list(Path('../results').glob(f'{model}_dataset-{dataset}_target-{target}_epoch-{epoch}_layer-*_preds.csv')))"
   ]
  },
  {
   "attachments": {},
   "cell_type": "markdown",
   "metadata": {},
   "source": [
    "For each layer, load in data and perform analysis."
   ]
  },
  {
   "cell_type": "code",
   "execution_count": 2,
   "metadata": {},
   "outputs": [
    {
     "name": "stderr",
     "output_type": "stream",
     "text": [
      "100%|██████████| 8/8 [27:45<00:00, 208.20s/it]\n"
     ]
    }
   ],
   "source": [
    "results = defaultdict(list)  # to store results\n",
    "\n",
    "# Loop over layers\n",
    "for path in tqdm(paths):\n",
    "    layer = path.name.split('layer-')[1].split('_preds')[0]\n",
    "    \n",
    "    # Load in train/val/test data; `a_N` = Neural activations\n",
    "    with h5py.File('../trained_models/ResNet6_dataset-gmf_112x112_emo_target-shape/epoch-050_decomposed.h5', 'r') as f_in:\n",
    "        X_test = f_in['testing']['a_N'][layer][:]  # N x 2048, where 2048 represents 2048 PCA-transformed layer activation components\n",
    "        X_test_shape = f_in['testing']['shape'][:] # N x 354, where 394 represents the number of shape components from the GMF \n",
    "        Y_test = f_in['testing']['id'][:]  # N x 1, where 1 represents the integer ID corresponding to the face identity\n",
    "        X_train = f_in['training']['a_N'][layer][:]\n",
    "        X_train_shape = f_in['training']['shape'][:]\n",
    "        X_val = f_in['validation']['a_N'][layer][:]\n",
    "        X_val_shape = f_in['validation']['shape'][:]\n",
    "\n",
    "    df = pd.read_csv(path)\n",
    "\n",
    "    # Fit a model to predict shape from layer activations (which can used to later embed\n",
    "    # the train and test set into shape space); we use ridge regression with cross-validation\n",
    "    # to tune the alpha parameter\n",
    "    alphas = np.logspace(-2, 6, num=9, endpoint=True)\n",
    "    cv_scores = np.zeros((len(alphas), X_train_shape.shape[1]))\n",
    "    for i, alpha in enumerate(alphas):\n",
    "        model = make_pipeline(StandardScaler(), Ridge(alpha=alpha))\n",
    "        model.fit(X_train, X_train_shape)\n",
    "        preds = model.predict(X_val)\n",
    "        cv_scores[i] = r2_score(X_val_shape, preds, multioutput='raw_values')\n",
    "\n",
    "    # Infer best alphas *for each shape component separately* (huge difference compared to\n",
    "    # picking a single alpha for all shape components) and use for final model\n",
    "    best_alphas = alphas[cv_scores.argmax(axis=0)]\n",
    "    model = make_pipeline(StandardScaler(), Ridge(alpha=best_alphas))\n",
    "    model.fit(X_train, X_train_shape)  # final (re)fit on all data\n",
    "\n",
    "    # Perform 4-fold cross-validation analysis (predicting ID) on the test set using\n",
    "    # either the original layer activations (preds_direct) or the activations embedded\n",
    "    # into shape space (preds_embed)\n",
    "    cv = StratifiedKFold(n_splits=4)\n",
    "    # We use LDA because it's a lot faster than e.g. logistic regression\n",
    "    id_model = make_pipeline(StandardScaler(), LinearDiscriminantAnalysis(solver='lsqr'))\n",
    "    preds_direct = np.zeros((Y_test.shape[0], np.unique(Y_test).size))\n",
    "    preds_embed = np.zeros((Y_test.shape[0], np.unique(Y_test).size))\n",
    "    \n",
    "    for train_idx, test_idx in cv.split(X_test, Y_test):\n",
    "        # Fit direct model (id_model)\n",
    "        id_model.fit(X_test[train_idx], Y_test[train_idx])\n",
    "        preds_direct[test_idx] = id_model.predict_proba(X_test[test_idx])\n",
    "        \n",
    "        # Embed data into shape space (X_) and predict ID\n",
    "        X_ = model.predict(X_test)\n",
    "        id_model.fit(X_[train_idx], Y_test[train_idx])\n",
    "        preds_embed[test_idx] = id_model.predict_proba(X_[test_idx])\n",
    "\n",
    "    # Compute AUC scores for both models on all predictions at the same time\n",
    "    score_direct = roc_auc_score(Y_test, preds_direct, multi_class='ovr')\n",
    "    score_embed = roc_auc_score(Y_test, preds_embed, multi_class='ovr')\n",
    "    \n",
    "    # Store results\n",
    "    for score, type_ in [(score_direct, 'direct'), (score_embed, 'embed')]:\n",
    "        results['layer'].append(layer)\n",
    "        results['score'].append(score)\n",
    "        results['type'].append(type_)"
   ]
  },
  {
   "attachments": {},
   "cell_type": "markdown",
   "metadata": {},
   "source": [
    "Simple bar plot to compare:"
   ]
  },
  {
   "cell_type": "code",
   "execution_count": 3,
   "metadata": {},
   "outputs": [
    {
     "data": {
      "text/plain": [
       "<AxesSubplot: xlabel='layer', ylabel='score'>"
      ]
     },
     "execution_count": 3,
     "metadata": {},
     "output_type": "execute_result"
    },
    {
     "data": {
      "image/png": "[encoded data removed]",
      "text/plain": [
       "<Figure size 640x480 with 1 Axes>"
      ]
     },
     "metadata": {},
     "output_type": "display_data"
    }
   ],
   "source": [
    "df = pd.DataFrame(results)\n",
    "sns.barplot(x='layer', y='score', hue='type', data=df)"
   ]
  }
 ],
 "metadata": {
  "kernelspec": {
   "display_name": "deepgmf",
   "language": "python",
   "name": "python3"
  },
  "language_info": {
   "codemirror_mode": {
    "name": "ipython",
    "version": 3
   },
   "file_extension": ".py",
   "mimetype": "text/x-python",
   "name": "python",
   "nbconvert_exporter": "python",
   "pygments_lexer": "ipython3",
   "version": "3.9.13"
  },
  "orig_nbformat": 4
 },
 "nbformat": 4,
 "nbformat_minor": 2
}
