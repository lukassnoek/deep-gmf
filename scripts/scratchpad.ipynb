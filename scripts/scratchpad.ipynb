{
 "cells": [
  {
   "cell_type": "code",
   "execution_count": 1,
   "metadata": {},
   "outputs": [
    {
     "name": "stdout",
     "output_type": "stream",
     "text": [
      "Made context-safe: Ebo bind <class 'function'>\n",
      "Made context-safe: Ebo delete <class 'function'>\n",
      "Made context-safe: Vbo bind <class 'function'>\n",
      "Made context-safe: Vbo update <class 'function'>\n",
      "Made context-safe: Vbo delete <class 'function'>\n",
      "Made context-safe: Texture create_texture2D <class 'function'>\n",
      "Made context-safe: Texture create_texture2DMS <class 'function'>\n",
      "Made context-safe: Texture create_texture2Darr <class 'function'>\n",
      "Made context-safe: Texture set_as_active <class 'function'>\n",
      "Made context-safe: Texture delete <class 'function'>\n",
      "Made context-safe: Renderbuffer create_renderbuffer <class 'function'>\n",
      "Made context-safe: Renderbuffer create_renderbufferMS <class 'function'>\n",
      "Made context-safe: Renderbuffer delete <class 'function'>\n",
      "Made context-safe: Fbo bind <class 'function'>\n",
      "Made context-safe: Fbo initialise <class 'function'>\n",
      "Made context-safe: Fbo assert_complete <class 'function'>\n",
      "Made context-safe: Fbo delete <class 'function'>\n",
      "Made context-safe: ShaderProgram update_uniforms <class 'function'>\n",
      "Made context-safe: ShaderProgram use <class 'function'>\n",
      "Made context-safe: BasicColorShader setup <class 'function'>\n",
      "Made context-safe: ScreenShader setup <class 'function'>\n",
      "Made context-safe: ScreenShaderGaussian setup <class 'function'>\n",
      "Made context-safe: BlendshapesShader setup <class 'function'>\n",
      "Made context-safe: BlendshapesShaderDebug setup <class 'function'>\n",
      "Made context-safe: Light create_shader_input <class 'function'>\n",
      "Made context-safe: Light transform <class 'function'>\n",
      "Made context-safe: Light generate_ringmesh <class 'function'>\n",
      "Made context-safe: Camera orbit <class 'function'>\n",
      "Made context-safe: Camera resize <class 'function'>\n",
      "Made context-safe: Camera generate_projview <class 'function'>\n",
      "Made context-safe: Camera generate_frustmesh <class 'function'>\n",
      "Made context-safe: Camera copy <class 'function'>\n",
      "Made context-safe: Blendshapes get_map <class 'function'>\n",
      "Made context-safe: Blendshapes attach <class 'function'>\n",
      "Made context-safe: Blendshapes create_materials <class 'function'>\n",
      "Made context-safe: Model transform <class 'function'>\n",
      "Made context-safe: Model attach <class 'function'>\n",
      "Made context-safe: Model detach <class 'function'>\n",
      "Made context-safe: Model delete <class 'function'>\n",
      "Made context-safe: Model create_vbo <class 'function'>\n",
      "Made context-safe: Model create_elements <class 'function'>\n",
      "Made context-safe: Model copy_elements <class 'function'>\n",
      "Made context-safe: Model create_materials <class 'function'>\n",
      "Made context-safe: TAASmoothdepthShader setup <class 'function'>\n",
      "Made context-safe: TAABlendShader setup <class 'function'>\n",
      "Made context-safe: LightingShader setup <class 'function'>\n",
      "Made context-safe: LightingShaderMSAA setup <class 'function'>\n",
      "Made context-safe: ShadowShader setup <class 'function'>\n",
      "Made context-safe: SSAOShader setup <class 'function'>\n",
      "Made context-safe: GeometryShader setup <class 'function'>\n",
      "Made context-safe: GlassShader setup <class 'function'>\n",
      "Made context-safe: FurShader setup <class 'function'>\n",
      "Made context-safe: DepthShader setup <class 'function'>\n"
     ]
    }
   ],
   "source": [
    "import os\n",
    "os.environ['DISPLAY'] = ':0.0'\n",
    "import shutil\n",
    "import numpy as np\n",
    "from pathlib import Path\n",
    "from GFG import Ctx\n",
    "from GFG.model import Nf\n",
    "from GFG.identity import IDModel\n",
    "from GFG.model import Furmap, hcol\n",
    "from ogbGL.draw_objects import Camera\n",
    "from skimage import transform\n",
    "\n",
    "np.random.seed(42)\n",
    "try:\n",
    "    ROOT = Path(__file__).parents[1]\n",
    "except:\n",
    "    ROOT = Path('/home/lukass/deep-gmf')"
   ]
  },
  {
   "cell_type": "code",
   "execution_count": 2,
   "metadata": {},
   "outputs": [],
   "source": [
    "# Load identity model\n",
    "data_path = '/analyse/Project0294/GFG_data/model_HDB_linear_v2dense_compact.mat'\n",
    "idm = IDModel.load(data_path)\n",
    "base_nf = Nf.from_default()\n",
    "\n",
    "# furmap = Furmap(hcol=hcol['Terra Cotta'], nlayers=120, density=1.)\n",
    "# furmap.material.split_newmtl(mat_groups = base_nf.material_groups,\n",
    "#                              fvt = base_nf.face_tuple.fv,\n",
    "#                              vt = base_nf.vertex_tuple.dSvt,\n",
    "#                              groupfidx = base_nf.groupfindex)\n",
    "# base_nf.attach_fur(furmap, name='fur')"
   ]
  },
  {
   "cell_type": "code",
   "execution_count": null,
   "metadata": {},
   "outputs": [],
   "source": [
    "# Setup openGL context + camera\n",
    "ctx = Ctx(res=(256, 256), renderscale=4.)\n",
    "ctx.camera[0] = Camera(\n",
    "    ctx.win, ctx._ar,\n",
    "    target = [-11.5644, -13.0381, 0],\n",
    "    eye = [-11.5644, -13.0381, 700.],\n",
    "    up = [0,1,0],\n",
    "    FOV = 50,\n",
    "    near = 100.0,\n",
    "    far = 1000.0\n",
    ")\n",
    "ctx.transform_lights(0, 0, 0, order='xyz')"
   ]
  },
  {
   "cell_type": "code",
   "execution_count": null,
   "metadata": {},
   "outputs": [],
   "source": [
    "age = 25\n",
    "ethn = 'WC'\n",
    "gender = 'M'\n",
    "v_coeff = np.random.normal(0, 1, size=len(idm))\n",
    "t_coeff = np.random.normal(0, 1, size=(idm.nbands, len(idm)))\n",
    "\n",
    "tdet = np.load('/analyse/Project0257/lukas/data/tdet.npy')\n",
    "nf = idm.generate(v_coeff, t_coeff, ethnicity=ethn, gender=gender, age=age,\n",
    "                  basenf=base_nf, tdet=tdet)\n",
    "nf.attach(ctx)"
   ]
  },
  {
   "cell_type": "code",
   "execution_count": null,
   "metadata": {},
   "outputs": [],
   "source": [
    "ctx.set_lights('flat')\n",
    "img = ctx.render('image')\n",
    "img.save('flat.png')\n"
   ]
  },
  {
   "cell_type": "code",
   "execution_count": null,
   "metadata": {},
   "outputs": [],
   "source": [
    "nf.transform_model(0, 0, 0, [0, 0, 0], order='txyz', replace=True)\n",
    "nf.transform_model(15, 25, 0, [0, 0, 0], order='xyzt', replace=False)\n",
    "img = ctx.render('image')\n",
    "img.save('rot.png')"
   ]
  },
  {
   "cell_type": "code",
   "execution_count": null,
   "metadata": {},
   "outputs": [],
   "source": [
    "nf.transform_model(0, 0, 0, [0, 0, 0], order='txyz', replace=True)\n",
    "nf.transform_model(0, 0, 0, [0, 0, 0], order='xyzt', replace=False)\n",
    "nf.transform_model(0, 0, 0, [0, 0, 100], order='xyzt', replace=False)\n",
    "\n",
    "img = ctx.render('image')\n",
    "\n",
    "img_arr = np.array(img)\n",
    "tform = transform.EuclideanTransform(\n",
    "   translation = (+0, 0)\n",
    "   )\n",
    "img_arr = transform.warp(img_arr, tform.inverse)\n",
    "img_arr *= 255\n",
    "\n",
    "img_arr[191:193, 126:128, :] = [255, 255, 255, 255]\n",
    "img_arr[126:128, 126:128, :] = [255, 255, 255, 255]\n",
    "img_arr[63:65, 126:128, :] = [255, 255, 255, 255]\n",
    "img_arr[126:128, 191:193, :] = [255, 255, 255, 255]\n",
    "img_arr[126:128, 126:128, :] = [255, 255, 255, 255]\n",
    "img_arr[126:128, 63:65, :] = [255, 255, 255, 255]\n",
    "\n",
    "img_arr[63:65, 63:65, :] = [255, 255, 255, 255]\n",
    "img_arr[191:193, 63:65, :] = [255, 255, 255, 255]\n",
    "\n",
    "img_arr[63:65, 191:193, :] = [255, 255, 255, 255]\n",
    "img_arr[191:193, 191:193, :] = [255, 255, 255, 255]\n",
    "img = Image.fromarray(img_arr.astype(np.uint8))\n",
    "\n",
    "#img.save('test.png')\n",
    "img"
   ]
  },
  {
   "cell_type": "code",
   "execution_count": null,
   "metadata": {},
   "outputs": [],
   "source": [
    "from GFG.model import Adata\n",
    "adata = Adata.load('quick_FACS_blendshapes_v2dense')\n",
    "adata.attach(ctx)"
   ]
  },
  {
   "cell_type": "code",
   "execution_count": null,
   "metadata": {},
   "outputs": [],
   "source": [
    "adata.labels_AU[10:]"
   ]
  },
  {
   "cell_type": "code",
   "execution_count": null,
   "metadata": {},
   "outputs": [],
   "source": [
    "adata.bshapes['AU4'] = 0\n",
    "adata.bshapes['AU9'] = 1\n",
    "adata.bshapes['AU10Open'] = 1\n",
    "adata.bshapes['AU16Open'] = 0\n",
    "adata.bshapes['AU22'] = 0\n"
   ]
  },
  {
   "cell_type": "code",
   "execution_count": null,
   "metadata": {},
   "outputs": [],
   "source": [
    "nf.transform_model(0, 0, 0, [0, 0, 0], order='txyz', replace=True)\n",
    "nf.transform_model(0, 0, 0, [0, 0, 0], order='xyzt', replace=False)\n",
    "\n",
    "ctx.set_lights(Path(ROOT / 'lights.yaml'))\n",
    "ctx.transform_lights(90, 0, 45, [0, 0, 0])\n",
    "img = ctx.render('image')\n",
    "img"
   ]
  },
  {
   "cell_type": "code",
   "execution_count": null,
   "metadata": {},
   "outputs": [],
   "source": [
    "from PIL import Image\n",
    "img = ctx.render(dest='image')\n",
    "img_arr = np.array(img)\n",
    "img_rgb, img_a = img_arr[..., :3], img_arr[..., 3, None] / 255.\n",
    "bg_rgb = np.array(Image.open(ROOT / 'data' / f'background_1.png'))\n",
    "img_arr = (img_rgb * img_a) + (bg_rgb * (1 - img_a))  # alpha blend\n",
    "img_arr = np.dstack((img_arr, np.ones((256, 256)) * 255)).astype(np.uint8)\n",
    "\n",
    "img = Image.fromarray(img_arr)\n",
    "img.save('background.png')"
   ]
  },
  {
   "cell_type": "code",
   "execution_count": null,
   "metadata": {},
   "outputs": [],
   "source": [
    "from pathlib import Path\n",
    "ctx.set_lights(Path('lights.yaml'))\n",
    "#ctx.transform_lights(0, 0, 0, [0, 0, 0])\n",
    "\n",
    "import imageio\n",
    "\n",
    "with imageio.get_writer('lights.gif', mode='I', fps=60) as writer:\n",
    "    #for i in range(360):\n",
    "    #    ctx.transform_lights(1, 0, 0, [0, 0, 0])        \n",
    "    #    img = ctx.render('image')\n",
    "    #    writer.append_data(np.array(img))\n",
    "        \n",
    "    #for i in range(360):\n",
    "    #    ctx.transform_lights(0, 1, 0, [0, 0, 0])        \n",
    "    #    img = ctx.render('image')\n",
    "    #    writer.append_data(np.array(img))\n",
    "        \n",
    "    for i in range(360):\n",
    "        ctx.transform_lights(0, 0, 1, [0, 0, 0])        \n",
    "        img = ctx.render('image')\n",
    "        writer.append_data(np.array(img))\n",
    "    "
   ]
  },
  {
   "cell_type": "code",
   "execution_count": null,
   "metadata": {},
   "outputs": [],
   "source": [
    "#ctx.set_lights(Path('lights.yaml'))\n",
    "#ctx.transform_lights(0, 10, 0, [0, 0, 0])\n",
    "#base_nf.attach(ctx)\n",
    "img = ctx.render('image')\n",
    "img"
   ]
  }
 ],
 "metadata": {
  "interpreter": {
   "hash": "91849e6cd3e451deb3fb83d36c68ec8ff8b9d81f8c0b940b055b33aa833db67e"
  },
  "kernelspec": {
   "display_name": "Python 3.7.11 64-bit ('GFG': conda)",
   "language": "python",
   "name": "python3"
  },
  "language_info": {
   "codemirror_mode": {
    "name": "ipython",
    "version": 3
   },
   "file_extension": ".py",
   "mimetype": "text/x-python",
   "name": "python",
   "nbconvert_exporter": "python",
   "pygments_lexer": "ipython3",
   "version": "3.7.11"
  },
  "orig_nbformat": 4
 },
 "nbformat": 4,
 "nbformat_minor": 2
}
