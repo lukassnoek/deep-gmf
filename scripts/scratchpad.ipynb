{
 "cells": [
  {
   "cell_type": "code",
   "execution_count": 1,
   "metadata": {},
   "outputs": [
    {
     "name": "stdout",
     "output_type": "stream",
     "text": [
      "Made context-safe: Ebo bind <class 'function'>\n",
      "Made context-safe: Ebo delete <class 'function'>\n",
      "Made context-safe: Vbo bind <class 'function'>\n",
      "Made context-safe: Vbo update <class 'function'>\n",
      "Made context-safe: Vbo delete <class 'function'>\n",
      "Made context-safe: Texture create_texture2D <class 'function'>\n",
      "Made context-safe: Texture create_texture2DMS <class 'function'>\n",
      "Made context-safe: Texture create_texture2Darr <class 'function'>\n",
      "Made context-safe: Texture set_as_active <class 'function'>\n",
      "Made context-safe: Texture delete <class 'function'>\n",
      "Made context-safe: Renderbuffer create_renderbuffer <class 'function'>\n",
      "Made context-safe: Renderbuffer create_renderbufferMS <class 'function'>\n",
      "Made context-safe: Renderbuffer delete <class 'function'>\n",
      "Made context-safe: Fbo bind <class 'function'>\n",
      "Made context-safe: Fbo initialise <class 'function'>\n",
      "Made context-safe: Fbo assert_complete <class 'function'>\n",
      "Made context-safe: Fbo delete <class 'function'>\n",
      "Made context-safe: ShaderProgram update_uniforms <class 'function'>\n",
      "Made context-safe: ShaderProgram use <class 'function'>\n",
      "Made context-safe: BasicColorShader setup <class 'function'>\n",
      "Made context-safe: ScreenShader setup <class 'function'>\n",
      "Made context-safe: ScreenShaderGaussian setup <class 'function'>\n",
      "Made context-safe: BlendshapesShader setup <class 'function'>\n",
      "Made context-safe: BlendshapesShaderDebug setup <class 'function'>\n",
      "Made context-safe: Light create_shader_input <class 'function'>\n",
      "Made context-safe: Light transform <class 'function'>\n",
      "Made context-safe: Light generate_ringmesh <class 'function'>\n",
      "Made context-safe: Camera orbit <class 'function'>\n",
      "Made context-safe: Camera resize <class 'function'>\n",
      "Made context-safe: Camera generate_projview <class 'function'>\n",
      "Made context-safe: Camera generate_frustmesh <class 'function'>\n",
      "Made context-safe: Camera copy <class 'function'>\n",
      "Made context-safe: Blendshapes get_map <class 'function'>\n",
      "Made context-safe: Blendshapes attach <class 'function'>\n",
      "Made context-safe: Blendshapes create_materials <class 'function'>\n",
      "Made context-safe: Model transform <class 'function'>\n",
      "Made context-safe: Model attach <class 'function'>\n",
      "Made context-safe: Model detach <class 'function'>\n",
      "Made context-safe: Model delete <class 'function'>\n",
      "Made context-safe: Model create_vbo <class 'function'>\n",
      "Made context-safe: Model create_elements <class 'function'>\n",
      "Made context-safe: Model copy_elements <class 'function'>\n",
      "Made context-safe: Model create_materials <class 'function'>\n",
      "Made context-safe: TAASmoothdepthShader setup <class 'function'>\n",
      "Made context-safe: TAABlendShader setup <class 'function'>\n",
      "Made context-safe: LightingShader setup <class 'function'>\n",
      "Made context-safe: LightingShaderMSAA setup <class 'function'>\n",
      "Made context-safe: ShadowShader setup <class 'function'>\n",
      "Made context-safe: SSAOShader setup <class 'function'>\n",
      "Made context-safe: GeometryShader setup <class 'function'>\n",
      "Made context-safe: GlassShader setup <class 'function'>\n",
      "Made context-safe: FurShader setup <class 'function'>\n",
      "Made context-safe: DepthShader setup <class 'function'>\n"
     ]
    }
   ],
   "source": [
    "import os\n",
    "# necessary when on deepnet server\n",
    "os.environ['DISPLAY'] = ':0.0'\n",
    "\n",
    "import numpy as np\n",
    "from PIL import Image\n",
    "from GFG import Ctx\n",
    "from GFG.model import Nf\n",
    "from pathlib import Path\n",
    "from GFG.core import Camera\n",
    "from skimage import transform\n",
    "from GFG.model import Furmap, hcol, Adata\n",
    "from GFG.identity import IDModel\n",
    "import sys\n",
    "sys.path.append('../scripts/generate_stimuli')\n",
    "from generate_backgrounds import phase_scramble_image"
   ]
  },
  {
   "cell_type": "code",
   "execution_count": null,
   "metadata": {},
   "outputs": [],
   "source": [
    "base_nf = Nf.from_default()\n",
    "furmap = Furmap(hcol=hcol['Dark Golden Brown'], nlayers=120, density=0.15)\n",
    "furmap.material.split_newmtl(mat_groups = base_nf.material_groups,\n",
    "                             fvt = base_nf.face_tuple.fv,\n",
    "                             vt = base_nf.vertex_tuple.dSvt,\n",
    "                             groupfidx = base_nf.groupfindex)\n",
    "base_nf.attach_fur(furmap, name='fur')\n",
    "\n",
    "### SETUP CAMERA + DEFINITION PARAMETERS\n",
    "# Setup openGL context + camera\n",
    "ctx = Ctx(hidden=True)\n",
    "base_nf.attach(ctx)  # attach to openGL context\n",
    "ctx._camera[0] = Camera(\n",
    "    ctx.win, (512, 512), 4.,  # res, renderscale\n",
    "    target=[-11.5644, -13.0381, 0],\n",
    "    # Increase distance to 700 (fits face in FOV)\n",
    "    eye = [-11.5644, -13.0381, 350],\n",
    "    up = [0, 1, 0],\n",
    "    FOV = 50,\n",
    "    near = 100.,\n",
    "    far = 1000.\n",
    ")\n",
    "#ctx.framebuffer_from_camera(ctx._camera[0])\n",
    "ctx.assign_camera(0)"
   ]
  },
  {
   "cell_type": "code",
   "execution_count": null,
   "metadata": {},
   "outputs": [],
   "source": [
    "ctx.set_lights('flat')\n",
    "base_nf.transform_model(0, 0, 0, [0, 0, 0], order='txyz', replace=True)\n",
    "img = ctx.render('image')\n",
    "img.save('../data/orig.png')\n",
    "img"
   ]
  },
  {
   "cell_type": "code",
   "execution_count": null,
   "metadata": {},
   "outputs": [],
   "source": [
    "base_nf.transform_model(0, 0, 0, [0, 0, 0], order='txyz', replace=True)\n",
    "base_nf.transform_model(15, 25, 0, [40, -10, 0], order='xyzt', replace=False)\n",
    "img = ctx.render('image')\n",
    "img.save('../data/rot.png')\n",
    "img"
   ]
  },
  {
   "cell_type": "code",
   "execution_count": null,
   "metadata": {},
   "outputs": [],
   "source": [
    "base_nf.transform_model(0, 0, 0, [0, 0, 0], order='txyz', replace=True)\n",
    "base_nf.transform_model(15, 25, 0, [0, 0, 0], order='xyzt', replace=False)\n",
    "img = ctx.render('image')\n",
    "\n",
    "img_arr = np.array(img)\n",
    "tform = transform.EuclideanTransform(translation=(120, 80))\n",
    "img_arr = transform.warp(img_arr, tform.inverse)\n",
    "img_arr *= 255\n",
    "img = Image.fromarray(img_arr.astype(np.uint8))\n",
    "img.convert('RGBA').save(str('../data/trans+rot.png'))\n",
    "img\n"
   ]
  },
  {
   "cell_type": "code",
   "execution_count": null,
   "metadata": {},
   "outputs": [],
   "source": [
    "ctx.set_lights(Path('../lights.yaml'))\n",
    "ctx.transform_lights(45, 45, 0, [0, 0, 0])\n",
    "\n",
    "base_nf.transform_model(0, 0, 0, [0, 0, 0], order='txyz', replace=True)\n",
    "base_nf.transform_model(15, 25, 0, [0, 0, 0], order='xyzt', replace=False)\n",
    "img = ctx.render('image')\n",
    "\n",
    "img_arr = np.array(img)\n",
    "tform = transform.EuclideanTransform(translation=(120, 80))\n",
    "img_arr = transform.warp(img_arr, tform.inverse)\n",
    "img_arr *= 255\n",
    "img = Image.fromarray(img_arr.astype(np.uint8))\n",
    "img.convert('RGBA').save(str('../data/trans+rot+lights.png'))\n",
    "img"
   ]
  },
  {
   "cell_type": "code",
   "execution_count": null,
   "metadata": {},
   "outputs": [],
   "source": [
    "ctx.set_lights(Path('../lights.yaml'))\n",
    "ctx.transform_lights(45, 45, 45, [0, 0, 0])\n",
    "\n",
    "base_nf.transform_model(0, 0, 0, [0, 0, 0], order='txyz', replace=True)\n",
    "base_nf.transform_model(15, 25, 0, [0, 0, 0], order='xyzt', replace=False)\n",
    "img = ctx.render('image')\n",
    "\n",
    "img_arr = np.array(img)\n",
    "tform = transform.EuclideanTransform(translation=(120, 80))\n",
    "img_arr = transform.warp(img_arr, tform.inverse)\n",
    "img_arr *= 255\n",
    "bg_rgb = phase_scramble_image(img_arr.copy(), None, is_image=False, shuffle_phase=False, grayscale=False)\n",
    "img_rgb, img_a = img_arr[..., :3], img_arr[..., 3, None] / 255.\n",
    "img_arr = (img_rgb * img_a) + (bg_rgb * (1 - img_a))  # alpha blend\n",
    "img_arr = np.dstack((img_arr, np.ones((512, 512)) * 255)).astype(np.uint8)\n",
    "img = Image.fromarray(img_arr.astype(np.uint8))\n",
    "img.convert('RGBA').save(str('../data/trans+rot+lights+bg.png'))\n",
    "bg = Image.fromarray(bg_rgb.astype(np.uint8))\n",
    "bg.convert('RGBA').save('../data/orig_background.png')"
   ]
  }
 ],
 "metadata": {
  "interpreter": {
   "hash": "91849e6cd3e451deb3fb83d36c68ec8ff8b9d81f8c0b940b055b33aa833db67e"
  },
  "kernelspec": {
   "display_name": "Python 3.7.11 64-bit ('GFG': conda)",
   "language": "python",
   "name": "python3"
  },
  "language_info": {
   "codemirror_mode": {
    "name": "ipython",
    "version": 3
   },
   "file_extension": ".py",
   "mimetype": "text/x-python",
   "name": "python",
   "nbconvert_exporter": "python",
   "pygments_lexer": "ipython3",
   "version": "3.7.11"
  },
  "orig_nbformat": 4
 },
 "nbformat": 4,
 "nbformat_minor": 2
}
