{
 "cells": [
  {
   "cell_type": "code",
   "execution_count": null,
   "metadata": {},
   "outputs": [],
   "source": [
    "import os\n",
    "os.environ['DISPLAY'] = ':0.0'\n",
    "import shutil\n",
    "import numpy as np\n",
    "import pandas as pd\n",
    "from pathlib import Path\n",
    "from GFG import Ctx\n",
    "from GFG.model import Nf\n",
    "from GFG.identity import IDModel\n",
    "from GFG.model import Furmap, hcol\n",
    "from ogbGL.draw_objects import Camera\n",
    "\n",
    "np.random.seed(42)\n",
    "try:\n",
    "    ROOT = Path(__file__).parents[1]\n",
    "except:\n",
    "    ROOT = Path('/home/lukass/deep-gmf')"
   ]
  },
  {
   "cell_type": "code",
   "execution_count": null,
   "metadata": {},
   "outputs": [],
   "source": [
    "# Load identity model\n",
    "data_path = '/analyse/Project0294/GFG_data/model_HDB_linear_v2dense_compact.mat'\n",
    "idm = IDModel.load(data_path)\n",
    "base_nf = Nf.from_default()\n",
    "\n",
    "furmap = Furmap(hcol=hcol['Terra Cotta'], nlayers=120, density=1.)\n",
    "furmap.material.split_newmtl(mat_groups = base_nf.material_groups,\n",
    "                             fvt = base_nf.face_tuple.fv,\n",
    "                             vt = base_nf.vertex_tuple.dSvt,\n",
    "                             groupfidx = base_nf.groupfindex)\n",
    "base_nf.attach_fur(furmap, name='fur')"
   ]
  },
  {
   "cell_type": "code",
   "execution_count": null,
   "metadata": {},
   "outputs": [],
   "source": [
    "# Setup openGL context + camera\n",
    "ctx = Ctx(res=(256, 256), renderscale=4.)\n",
    "ctx.camera[0] = Camera(\n",
    "    ctx.win, ctx._ar,\n",
    "    target = [-11.5644, -13.0381, 0],\n",
    "    eye = [-11.5644, -13.0381, 450.],\n",
    "    up = [0,1,0],\n",
    "    FOV = 50,\n",
    "    near = 100.0,\n",
    "    far = 1000.0\n",
    ")\n",
    "ctx.transform_lights(0, 0, 0, order='xyz')"
   ]
  },
  {
   "cell_type": "code",
   "execution_count": null,
   "metadata": {},
   "outputs": [],
   "source": [
    "N_IDS = 1\n",
    "x_rots = [-60, -45, -30, -15, 0, 15, 30, 45, 60]\n",
    "y_rots = [-60, -45, -30, -15, 0, 15, 30, 45, 60]\n",
    "z_rots = [0, 45, 90, 135, 180, 225, 270, 315]\n",
    "x_trans = [-50, -25, 0, 25, 50]\n",
    "y_trans = [-50, -25, 0, 25, 50]\n",
    "z_trans = [0]#-300, -200, -100, 0, 100]\n",
    "\n",
    "if (ROOT / 'data' / 'gender-M').exists():\n",
    "    shutil.rmtree(ROOT / 'data' / 'gender-M')\n",
    "\n",
    "gender, ethn, age = 'M', 'WC', 25\n",
    "    \n",
    "v_coeff = np.random.normal(0, 1, size=len(idm))\n",
    "t_coeff = np.random.normal(0, 1, size=(idm.nbands, len(idm)))\n",
    "\n",
    "tdet = np.load(ROOT / 'GFG_data' / 'tdet.npy')\n",
    "nf = idm.generate(v_coeff, t_coeff, ethnicity=ethn, gender=gender, age=age,\n",
    "                  basenf=base_nf, tdet=tdet)\n",
    "nf.attach(ctx)\n",
    "head_idx = nf.groupvindex[nf.groupnames.index('head')] - 1\n",
    "com = nf.v[head_idx, :].mean(axis=0)  # center of mass"
   ]
  },
  {
   "cell_type": "code",
   "execution_count": null,
   "metadata": {},
   "outputs": [],
   "source": [
    "from pathlib import Path\n",
    "ctx.set_lights(Path('lights.yaml'))\n",
    "#ctx.transform_lights(0, 0, 0, [0, 0, 0])\n",
    "\n",
    "import imageio\n",
    "with imageio.get_writer('lights.gif', mode='I', fps=60) as writer:\n",
    "    #for i in range(360):\n",
    "    #    ctx.transform_lights(1, 0, 0, [0, 0, 0])        \n",
    "    #    img = ctx.render('image')\n",
    "    #    writer.append_data(np.array(img))\n",
    "        \n",
    "    #for i in range(360):\n",
    "    #    ctx.transform_lights(0, 1, 0, [0, 0, 0])        \n",
    "    #    img = ctx.render('image')\n",
    "    #    writer.append_data(np.array(img))\n",
    "        \n",
    "    for i in range(360):\n",
    "        ctx.transform_lights(0, 0, 1, [0, 0, 0])        \n",
    "        img = ctx.render('image')\n",
    "        writer.append_data(np.array(img))\n",
    "    "
   ]
  },
  {
   "cell_type": "code",
   "execution_count": null,
   "metadata": {},
   "outputs": [],
   "source": [
    "#ctx.set_lights(Path('lights.yaml'))\n",
    "#ctx.transform_lights(0, 10, 0, [0, 0, 0])\n",
    "#base_nf.attach(ctx)\n",
    "img = ctx.render('image')\n",
    "img"
   ]
  }
 ],
 "metadata": {
  "interpreter": {
   "hash": "91849e6cd3e451deb3fb83d36c68ec8ff8b9d81f8c0b940b055b33aa833db67e"
  },
  "kernelspec": {
   "display_name": "Python 3.7.11 64-bit ('GFG': conda)",
   "language": "python",
   "name": "python3"
  },
  "language_info": {
   "codemirror_mode": {
    "name": "ipython",
    "version": 3
   },
   "file_extension": ".py",
   "mimetype": "text/x-python",
   "name": "python",
   "nbconvert_exporter": "python",
   "pygments_lexer": "ipython3",
   "version": "3.7.11"
  },
  "orig_nbformat": 4
 },
 "nbformat": 4,
 "nbformat_minor": 2
}
