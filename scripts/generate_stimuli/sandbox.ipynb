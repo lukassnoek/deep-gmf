{
 "cells": [
  {
   "cell_type": "code",
   "execution_count": 1,
   "metadata": {},
   "outputs": [],
   "source": [
    "import os\n",
    "os.environ['DISPLAY'] = ':0.0'\n",
    "\n",
    "import random\n",
    "import h5py\n",
    "import numpy as np\n",
    "from tqdm import tqdm\n",
    "from PIL import Image\n",
    "from pathlib import Path\n",
    "\n",
    "import GFG\n",
    "from GFG import Ctx\n",
    "from GFG.model import Nf\n",
    "from GFG.identity import IDModel\n",
    "from GFG.core import Camera\n",
    "from ogbGL.utils import imresize\n",
    "from generate_backgrounds import phase_scramble_image"
   ]
  },
  {
   "cell_type": "code",
   "execution_count": null,
   "metadata": {},
   "outputs": [],
   "source": [
    "### Preliminary settings\n",
    "IDM_PATH = '/analyse/Project0294/GFG_data/model_HDB_linear_v2dense_compact.mat'\n",
    "idm = IDModel.load(IDM_PATH)\n",
    "tdet = np.load('/analyse/Project0294/GFG_data/tdet.npy')\n",
    "base_nf = Nf.from_default()"
   ]
  },
  {
   "cell_type": "code",
   "execution_count": 13,
   "metadata": {},
   "outputs": [],
   "source": [
    "### Set up context\n",
    "# Setup openGL context + camera\n",
    "ctx = Ctx(hidden=True)\n",
    "\n",
    "# To init a camera, a model should exist, so using base_nf\n",
    "base_nf.attach(ctx)\n",
    "ctx._camera[0] = Camera(\n",
    "    ctx.win, (112, 112), 4.,\n",
    "    target=[-11.5644, -13.0381, 0],\n",
    "    eye = [-11.5644, -13.0381, 250],\n",
    "    up = [0, 1, 0],\n",
    "    FOV = 50,\n",
    "    near = 100.,\n",
    "    far = 1000.\n",
    ")\n",
    "ctx.assign_camera(0)\n",
    "\n",
    "# base_nf.detach()  # not necessary anymore\n",
    "\n",
    "# # Set custom lights with only a single source\n",
    "# light_source = '../../data/lights.yaml'\n",
    "# ctx.set_lights(Path(light_source))\n",
    "\n",
    "# # ID params\n",
    "# gend = 'M'\n",
    "# ethn = 'WC'\n",
    "# age = 25\n",
    "# shape_coeff = np.random.normal(0, 1, size=len(idm)).astype(np.float16)\n",
    "# tex_coeff = np.random.normal(0, 1, size=(idm.nbands, len(idm))).astype(np.float16)\n",
    "\n",
    "# nf = idm.generate(shape_coeff, tex_coeff, ethnicity=ethn, gender=gend, age=age,\n",
    "#                     basenf=base_nf, tdet=tdet)\n",
    "# nf.attach(ctx)  # attach to openGL context"
   ]
  },
  {
   "cell_type": "code",
   "execution_count": 18,
   "metadata": {},
   "outputs": [
    {
     "data": {
      "image/png": "[encoded data removed]",
      "text/plain": [
       "<PIL.Image.Image image mode=RGBA size=112x112>"
      ]
     },
     "execution_count": 18,
     "metadata": {},
     "output_type": "execute_result"
    }
   ],
   "source": [
    "# Render + alpha blend img & background\n",
    "base_nf.transform_model(0, 0, 0, [0, 0, 0], order='txyz', replace=False)\n",
    "img = ctx.render(dest='image')\n",
    "img"
   ]
  },
  {
   "cell_type": "code",
   "execution_count": null,
   "metadata": {},
   "outputs": [],
   "source": []
  }
 ],
 "metadata": {
  "kernelspec": {
   "display_name": "Python 3.7.13 ('gfg')",
   "language": "python",
   "name": "python3"
  },
  "language_info": {
   "codemirror_mode": {
    "name": "ipython",
    "version": 3
   },
   "file_extension": ".py",
   "mimetype": "text/x-python",
   "name": "python",
   "nbconvert_exporter": "python",
   "pygments_lexer": "ipython3",
   "version": "3.7.13"
  },
  "orig_nbformat": 4,
  "vscode": {
   "interpreter": {
    "hash": "921b0c65bafeb924812e004c63192aaede68d548c04c336cb273c7a0c086cd60"
   }
  }
 },
 "nbformat": 4,
 "nbformat_minor": 2
}
