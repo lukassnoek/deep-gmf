{
 "cells": [
  {
   "cell_type": "code",
   "execution_count": 1,
   "metadata": {},
   "outputs": [
    {
     "name": "stdout",
     "output_type": "stream",
     "text": [
      "Made context-safe: Ebo bind <class 'function'>\n",
      "Made context-safe: Ebo delete <class 'function'>\n",
      "Made context-safe: Vbo bind <class 'function'>\n",
      "Made context-safe: Vbo update <class 'function'>\n",
      "Made context-safe: Vbo delete <class 'function'>\n",
      "Made context-safe: Texture create_texture2D <class 'function'>\n",
      "Made context-safe: Texture create_texture2DMS <class 'function'>\n",
      "Made context-safe: Texture create_texture2Darr <class 'function'>\n",
      "Made context-safe: Texture set_as_active <class 'function'>\n",
      "Made context-safe: Texture delete <class 'function'>\n",
      "Made context-safe: Renderbuffer create_renderbuffer <class 'function'>\n",
      "Made context-safe: Renderbuffer create_renderbufferMS <class 'function'>\n",
      "Made context-safe: Renderbuffer delete <class 'function'>\n",
      "Made context-safe: Fbo bind <class 'function'>\n",
      "Made context-safe: Fbo initialise <class 'function'>\n",
      "Made context-safe: Fbo assert_complete <class 'function'>\n",
      "Made context-safe: Fbo delete <class 'function'>\n",
      "Made context-safe: ShaderProgram update_uniforms <class 'function'>\n",
      "Made context-safe: ShaderProgram use <class 'function'>\n",
      "Made context-safe: ScreenShader setup <class 'function'>\n",
      "Made context-safe: ScreenShaderGaussian setup <class 'function'>\n",
      "Made context-safe: BlendshapesShader setup <class 'function'>\n",
      "Made context-safe: BlendshapesShaderDebug setup <class 'function'>\n",
      "Made context-safe: Light create_shader_input <class 'function'>\n",
      "Made context-safe: Light transform <class 'function'>\n",
      "Made context-safe: Blendshapes get_map <class 'function'>\n",
      "Made context-safe: Blendshapes attach <class 'function'>\n",
      "Made context-safe: Blendshapes create_materials <class 'function'>\n",
      "Made context-safe: Model transform <class 'function'>\n",
      "Made context-safe: Model attach <class 'function'>\n",
      "Made context-safe: Model detach <class 'function'>\n",
      "Made context-safe: Model delete <class 'function'>\n",
      "Made context-safe: Model create_vbo <class 'function'>\n",
      "Made context-safe: Model create_elements <class 'function'>\n",
      "Made context-safe: Model copy_elements <class 'function'>\n",
      "Made context-safe: Model create_materials <class 'function'>\n",
      "Made context-safe: TAASmoothdepthShader setup <class 'function'>\n",
      "Made context-safe: TAABlendShader setup <class 'function'>\n",
      "Made context-safe: LightingShader setup <class 'function'>\n",
      "Made context-safe: LightingShaderMSAA setup <class 'function'>\n",
      "Made context-safe: ShadowShader setup <class 'function'>\n",
      "Made context-safe: SSAOShader setup <class 'function'>\n",
      "Made context-safe: GeometryShader setup <class 'function'>\n",
      "Made context-safe: GlassShader setup <class 'function'>\n",
      "Made context-safe: FurShader setup <class 'function'>\n",
      "Made context-safe: DepthShader setup <class 'function'>\n"
     ]
    }
   ],
   "source": [
    "import os\n",
    "os.environ['DISPLAY'] = ':0.0'\n",
    "import shutil\n",
    "import numpy as np\n",
    "import pandas as pd\n",
    "from pathlib import Path\n",
    "from GFG import Ctx\n",
    "from GFG.model import Nf\n",
    "from GFG.identity import IDModel\n",
    "from GFG.model import Furmap, hcol\n",
    "from ogbGL.draw_objects import Camera\n",
    "\n",
    "np.random.seed(42)\n",
    "try:\n",
    "    ROOT = Path(__file__).parents[1]\n",
    "except:\n",
    "    ROOT = Path('/home/lukass/deep-gmf')"
   ]
  },
  {
   "cell_type": "code",
   "execution_count": 6,
   "metadata": {},
   "outputs": [],
   "source": [
    "# Load identity model\n",
    "data_path = '/analyse/Project0294/GFG_data/model_HDB_linear_v2dense_compact.mat'\n",
    "#idm = IDModel.load(data_path)\n",
    "base_nf = Nf.from_default()\n",
    "\n",
    "furmap = Furmap(hcol=hcol['Terra Cotta'], nlayers=120, density=1.)\n",
    "furmap.material.split_newmtl(mat_groups = base_nf.material_groups,\n",
    "                             fvt = base_nf.face_tuple.fv,\n",
    "                             vt = base_nf.vertex_tuple.dSvt,\n",
    "                             groupfidx = base_nf.groupfindex)\n",
    "base_nf.attach_fur(furmap, name='fur')"
   ]
  },
  {
   "cell_type": "code",
   "execution_count": 7,
   "metadata": {},
   "outputs": [],
   "source": [
    "# Setup openGL context + camera\n",
    "ctx = Ctx(res=(256, 256), renderscale=4.)\n",
    "ctx.camera[0] = Camera(\n",
    "    ctx.win, ctx._ar,\n",
    "    target = [-11.5644, -13.0381, 0],\n",
    "    eye = [-11.5644, -13.0381, 450.],\n",
    "    up = [0,1,0],\n",
    "    FOV = 50,\n",
    "    near = 100.0,\n",
    "    far = 1000.0\n",
    ")\n",
    "ctx.transform_lights(0, 0, 0, order='xyz')"
   ]
  },
  {
   "cell_type": "code",
   "execution_count": 4,
   "metadata": {},
   "outputs": [],
   "source": [
    "N_IDS = 1\n",
    "x_rots = [-60, -45, -30, -15, 0, 15, 30, 45, 60]\n",
    "y_rots = [-60, -45, -30, -15, 0, 15, 30, 45, 60]\n",
    "z_rots = [0, 45, 90, 135, 180, 225, 270, 315]\n",
    "x_trans = [-50, -25, 0, 25, 50]\n",
    "y_trans = [-50, -25, 0, 25, 50]\n",
    "z_trans = [0]#-300, -200, -100, 0, 100]\n",
    "\n",
    "if (ROOT / 'data' / 'gender-M').exists():\n",
    "    shutil.rmtree(ROOT / 'data' / 'gender-M')\n",
    "\n",
    "gender, ethn, age = 'M', 'WC', 25\n",
    "    \n",
    "v_coeff = np.random.normal(0, 1, size=len(idm))\n",
    "t_coeff = np.random.normal(0, 1, size=(idm.nbands, len(idm)))\n",
    "\n",
    "tdet = np.load(ROOT / 'GFG_data' / 'tdet.npy')\n",
    "nf = idm.generate(v_coeff, t_coeff, ethnicity=ethn, gender=gender, age=age,\n",
    "                  basenf=base_nf, tdet=tdet)\n",
    "nf.attach(ctx)\n",
    "head_idx = nf.groupvindex[nf.groupnames.index('head')] - 1\n",
    "com = nf.v[head_idx, :].mean(axis=0)  # center of mass"
   ]
  },
  {
   "cell_type": "code",
   "execution_count": 20,
   "metadata": {},
   "outputs": [],
   "source": [
    "from pathlib import Path\n",
    "ctx.set_lights(Path('lights.yaml'))\n",
    "#ctx.transform_lights(0, 0, 0, [0, 0, 0])\n",
    "\n",
    "import imageio\n",
    "with imageio.get_writer('lights.gif', mode='I', fps=60) as writer:\n",
    "    #for i in range(360):\n",
    "    #    ctx.transform_lights(1, 0, 0, [0, 0, 0])        \n",
    "    #    img = ctx.render('image')\n",
    "    #    writer.append_data(np.array(img))\n",
    "        \n",
    "    #for i in range(360):\n",
    "    #    ctx.transform_lights(0, 1, 0, [0, 0, 0])        \n",
    "    #    img = ctx.render('image')\n",
    "    #    writer.append_data(np.array(img))\n",
    "        \n",
    "    for i in range(360):\n",
    "        ctx.transform_lights(0, 0, 1, [0, 0, 0])        \n",
    "        img = ctx.render('image')\n",
    "        writer.append_data(np.array(img))\n",
    "    "
   ]
  },
  {
   "cell_type": "code",
   "execution_count": 10,
   "metadata": {},
   "outputs": [
    {
     "data": {
      "image/png": "[encoded data removed]",
      "text/plain": [
       "<PIL.Image.Image image mode=RGBA size=256x256 at 0x7F01FECAE910>"
      ]
     },
     "execution_count": 10,
     "metadata": {},
     "output_type": "execute_result"
    }
   ],
   "source": [
    "#ctx.set_lights(Path('lights.yaml'))\n",
    "#ctx.transform_lights(0, 10, 0, [0, 0, 0])\n",
    "#base_nf.attach(ctx)\n",
    "img = ctx.render('image')\n",
    "img"
   ]
  }
 ],
 "metadata": {
  "interpreter": {
   "hash": "91849e6cd3e451deb3fb83d36c68ec8ff8b9d81f8c0b940b055b33aa833db67e"
  },
  "kernelspec": {
   "display_name": "Python 3.7.11 64-bit ('GFG': conda)",
   "language": "python",
   "name": "python3"
  },
  "language_info": {
   "codemirror_mode": {
    "name": "ipython",
    "version": 3
   },
   "file_extension": ".py",
   "mimetype": "text/x-python",
   "name": "python",
   "nbconvert_exporter": "python",
   "pygments_lexer": "ipython3",
   "version": "3.7.11"
  },
  "orig_nbformat": 4
 },
 "nbformat": 4,
 "nbformat_minor": 2
}
